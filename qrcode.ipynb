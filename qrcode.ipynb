{
  "nbformat": 4,
  "nbformat_minor": 0,
  "metadata": {
    "colab": {
      "provenance": [],
      "authorship_tag": "ABX9TyOqWwHbVVxDA8HlTMtp78Fk",
      "include_colab_link": true
    },
    "kernelspec": {
      "name": "python3",
      "display_name": "Python 3"
    },
    "language_info": {
      "name": "python"
    }
  },
  "cells": [
    {
      "cell_type": "markdown",
      "metadata": {
        "id": "view-in-github",
        "colab_type": "text"
      },
      "source": [
        "<a href=\"https://colab.research.google.com/github/LeandroPinhoQ/Gerador-de-Senha/blob/main/qrcode.ipynb\" target=\"_parent\"><img src=\"https://colab.research.google.com/assets/colab-badge.svg\" alt=\"Open In Colab\"/></a>"
      ]
    },
    {
      "cell_type": "code",
      "source": [
        "#importando a bilioteca\n",
        "import qrcode"
      ],
      "metadata": {
        "id": "6lhwM7dM__Vz"
      },
      "execution_count": 8,
      "outputs": []
    },
    {
      "cell_type": "code",
      "source": [
        "#solicitando ao usurario que ele insira as informações para gerar o qrcode\n",
        "url = input(\"Digite ou cole aqui a url que deseja tranformar em qrcode: \")"
      ],
      "metadata": {
        "colab": {
          "base_uri": "https://localhost:8080/"
        },
        "id": "6tOP4xZjAn_1",
        "outputId": "45914817-e364-4f6a-d8c5-585e629f4679"
      },
      "execution_count": 9,
      "outputs": [
        {
          "name": "stdout",
          "output_type": "stream",
          "text": [
            "Digite ou cole aqui a url que deseja tranformar em qrcode: https://web.whatsapp.com/\n"
          ]
        }
      ]
    },
    {
      "cell_type": "code",
      "source": [
        "# Gerando o  QR code\n",
        "data = qrcode.make(url)"
      ],
      "metadata": {
        "id": "b64EeI0LA3z7"
      },
      "execution_count": 10,
      "outputs": []
    },
    {
      "cell_type": "code",
      "source": [
        "#Salvando o qrcode\n",
        "data.save(\"qrcode.jpeg\")\n"
      ],
      "metadata": {
        "id": "PDhJCR8AA_HT"
      },
      "execution_count": 11,
      "outputs": []
    },
    {
      "cell_type": "code",
      "source": [
        "#Mostrando ao usuario que o processo foi concluido\n",
        "print(\"Qrcode gerado com sucesso e salvo em seu diretorio\")"
      ],
      "metadata": {
        "colab": {
          "base_uri": "https://localhost:8080/"
        },
        "id": "lqVDcTbbBGY4",
        "outputId": "1db72bf0-7bc0-48de-e29f-72938a11356f"
      },
      "execution_count": 12,
      "outputs": [
        {
          "output_type": "stream",
          "name": "stdout",
          "text": [
            "Qrcode gerado com sucesso e salvo em seu diretorio\n"
          ]
        }
      ]
    },
    {
      "cell_type": "code",
      "source": [],
      "metadata": {
        "id": "0R7kcDJGBbOz"
      },
      "execution_count": 12,
      "outputs": []
    }
  ]
}